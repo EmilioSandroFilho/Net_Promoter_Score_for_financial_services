{
 "cells": [
  {
   "cell_type": "code",
   "execution_count": 1,
   "id": "d77e3d2a",
   "metadata": {},
   "outputs": [],
   "source": [
    "import pandas as pd"
   ]
  },
  {
   "cell_type": "code",
   "execution_count": 2,
   "id": "eac42ca3",
   "metadata": {},
   "outputs": [],
   "source": [
    "nps = pd.read_csv('NPStimeseries.csv',low_memory=False)\n"
   ]
  },
  {
   "cell_type": "code",
   "execution_count": 3,
   "id": "6150d95d",
   "metadata": {},
   "outputs": [
    {
     "data": {
      "text/plain": [
       "'NPS Dataset Contem 5000 linhas e 7 colunas'"
      ]
     },
     "execution_count": 3,
     "metadata": {},
     "output_type": "execute_result"
    }
   ],
   "source": [
    "f'NPS Dataset Contem {nps.shape[0]} linhas e {nps.shape[1]} colunas'"
   ]
  },
  {
   "cell_type": "code",
   "execution_count": 4,
   "id": "1af6e5bf",
   "metadata": {
    "scrolled": true
   },
   "outputs": [
    {
     "data": {
      "text/html": [
       "<div>\n",
       "<style scoped>\n",
       "    .dataframe tbody tr th:only-of-type {\n",
       "        vertical-align: middle;\n",
       "    }\n",
       "\n",
       "    .dataframe tbody tr th {\n",
       "        vertical-align: top;\n",
       "    }\n",
       "\n",
       "    .dataframe thead th {\n",
       "        text-align: right;\n",
       "    }\n",
       "</style>\n",
       "<table border=\"1\" class=\"dataframe\">\n",
       "  <thead>\n",
       "    <tr style=\"text-align: right;\">\n",
       "      <th></th>\n",
       "      <th>ID</th>\n",
       "      <th>Month</th>\n",
       "      <th>Quarter</th>\n",
       "      <th>NPS</th>\n",
       "    </tr>\n",
       "  </thead>\n",
       "  <tbody>\n",
       "    <tr>\n",
       "      <th>count</th>\n",
       "      <td>5000.000000</td>\n",
       "      <td>5000.000000</td>\n",
       "      <td>5000.000000</td>\n",
       "      <td>5000.00000</td>\n",
       "    </tr>\n",
       "    <tr>\n",
       "      <th>mean</th>\n",
       "      <td>3499.500000</td>\n",
       "      <td>6.496000</td>\n",
       "      <td>2.503000</td>\n",
       "      <td>6.84120</td>\n",
       "    </tr>\n",
       "    <tr>\n",
       "      <th>std</th>\n",
       "      <td>1443.520003</td>\n",
       "      <td>3.424899</td>\n",
       "      <td>1.108078</td>\n",
       "      <td>3.49228</td>\n",
       "    </tr>\n",
       "    <tr>\n",
       "      <th>min</th>\n",
       "      <td>1000.000000</td>\n",
       "      <td>1.000000</td>\n",
       "      <td>1.000000</td>\n",
       "      <td>0.00000</td>\n",
       "    </tr>\n",
       "    <tr>\n",
       "      <th>25%</th>\n",
       "      <td>2249.750000</td>\n",
       "      <td>4.000000</td>\n",
       "      <td>2.000000</td>\n",
       "      <td>5.00000</td>\n",
       "    </tr>\n",
       "    <tr>\n",
       "      <th>50%</th>\n",
       "      <td>3499.500000</td>\n",
       "      <td>7.000000</td>\n",
       "      <td>3.000000</td>\n",
       "      <td>8.00000</td>\n",
       "    </tr>\n",
       "    <tr>\n",
       "      <th>75%</th>\n",
       "      <td>4749.250000</td>\n",
       "      <td>9.000000</td>\n",
       "      <td>3.000000</td>\n",
       "      <td>10.00000</td>\n",
       "    </tr>\n",
       "    <tr>\n",
       "      <th>max</th>\n",
       "      <td>5999.000000</td>\n",
       "      <td>12.000000</td>\n",
       "      <td>4.000000</td>\n",
       "      <td>10.00000</td>\n",
       "    </tr>\n",
       "  </tbody>\n",
       "</table>\n",
       "</div>"
      ],
      "text/plain": [
       "                ID        Month      Quarter         NPS\n",
       "count  5000.000000  5000.000000  5000.000000  5000.00000\n",
       "mean   3499.500000     6.496000     2.503000     6.84120\n",
       "std    1443.520003     3.424899     1.108078     3.49228\n",
       "min    1000.000000     1.000000     1.000000     0.00000\n",
       "25%    2249.750000     4.000000     2.000000     5.00000\n",
       "50%    3499.500000     7.000000     3.000000     8.00000\n",
       "75%    4749.250000     9.000000     3.000000    10.00000\n",
       "max    5999.000000    12.000000     4.000000    10.00000"
      ]
     },
     "execution_count": 4,
     "metadata": {},
     "output_type": "execute_result"
    }
   ],
   "source": [
    "nps.describe()\n"
   ]
  },
  {
   "cell_type": "code",
   "execution_count": 5,
   "id": "55782b51",
   "metadata": {},
   "outputs": [
    {
     "name": "stdout",
     "output_type": "stream",
     "text": [
      "<class 'pandas.core.frame.DataFrame'>\n",
      "RangeIndex: 5000 entries, 0 to 4999\n",
      "Data columns (total 7 columns):\n",
      " #   Column         Non-Null Count  Dtype \n",
      "---  ------         --------------  ----- \n",
      " 0   ID             5000 non-null   int64 \n",
      " 1   Market         5000 non-null   object\n",
      " 2   Survey date    5000 non-null   object\n",
      " 3   Customer Name  5000 non-null   object\n",
      " 4   Month          5000 non-null   int64 \n",
      " 5   Quarter        5000 non-null   int64 \n",
      " 6   NPS            5000 non-null   int64 \n",
      "dtypes: int64(4), object(3)\n",
      "memory usage: 273.6+ KB\n"
     ]
    }
   ],
   "source": [
    "nps.info()"
   ]
  },
  {
   "cell_type": "code",
   "execution_count": 6,
   "id": "df796d4b",
   "metadata": {},
   "outputs": [
    {
     "data": {
      "text/plain": [
       "'5000 clientes unicos no nps dataset'"
      ]
     },
     "execution_count": 6,
     "metadata": {},
     "output_type": "execute_result"
    }
   ],
   "source": [
    "UNIQUE_ID = nps['ID'].nunique()\n",
    "f'{UNIQUE_ID} clientes unicos no nps dataset'"
   ]
  },
  {
   "cell_type": "code",
   "execution_count": 7,
   "id": "17c97207",
   "metadata": {},
   "outputs": [],
   "source": [
    "def condicional(x):\n",
    "    if x < 7:\n",
    "        return 'Detratores'\n",
    "    elif x < 9 and x > 6: \n",
    "        return 'Neutros'\n",
    "    else:\n",
    "        return 'Promotores'"
   ]
  },
  {
   "cell_type": "code",
   "execution_count": 8,
   "id": "c71a0d09",
   "metadata": {},
   "outputs": [],
   "source": [
    "nps['condicional']=nps['NPS'].apply(condicional)"
   ]
  },
  {
   "cell_type": "code",
   "execution_count": 9,
   "id": "9668f2f7",
   "metadata": {},
   "outputs": [
    {
     "data": {
      "text/html": [
       "<div>\n",
       "<style scoped>\n",
       "    .dataframe tbody tr th:only-of-type {\n",
       "        vertical-align: middle;\n",
       "    }\n",
       "\n",
       "    .dataframe tbody tr th {\n",
       "        vertical-align: top;\n",
       "    }\n",
       "\n",
       "    .dataframe thead th {\n",
       "        text-align: right;\n",
       "    }\n",
       "</style>\n",
       "<table border=\"1\" class=\"dataframe\">\n",
       "  <thead>\n",
       "    <tr style=\"text-align: right;\">\n",
       "      <th></th>\n",
       "      <th>ID</th>\n",
       "      <th>Market</th>\n",
       "      <th>Survey date</th>\n",
       "      <th>Customer Name</th>\n",
       "      <th>Month</th>\n",
       "      <th>Quarter</th>\n",
       "      <th>NPS</th>\n",
       "      <th>condicional</th>\n",
       "    </tr>\n",
       "  </thead>\n",
       "  <tbody>\n",
       "    <tr>\n",
       "      <th>0</th>\n",
       "      <td>1000</td>\n",
       "      <td>US</td>\n",
       "      <td>01/09/2021</td>\n",
       "      <td>Krista Richards</td>\n",
       "      <td>9</td>\n",
       "      <td>3</td>\n",
       "      <td>10</td>\n",
       "      <td>Promotores</td>\n",
       "    </tr>\n",
       "    <tr>\n",
       "      <th>1</th>\n",
       "      <td>1001</td>\n",
       "      <td>MEX</td>\n",
       "      <td>07/11/2021</td>\n",
       "      <td>Monica King</td>\n",
       "      <td>11</td>\n",
       "      <td>4</td>\n",
       "      <td>9</td>\n",
       "      <td>Promotores</td>\n",
       "    </tr>\n",
       "    <tr>\n",
       "      <th>2</th>\n",
       "      <td>1002</td>\n",
       "      <td>UK</td>\n",
       "      <td>25/12/2021</td>\n",
       "      <td>Ricky Armstrong</td>\n",
       "      <td>12</td>\n",
       "      <td>4</td>\n",
       "      <td>0</td>\n",
       "      <td>Detratores</td>\n",
       "    </tr>\n",
       "    <tr>\n",
       "      <th>3</th>\n",
       "      <td>1003</td>\n",
       "      <td>UK</td>\n",
       "      <td>01/10/2021</td>\n",
       "      <td>Andrea Foley</td>\n",
       "      <td>10</td>\n",
       "      <td>4</td>\n",
       "      <td>10</td>\n",
       "      <td>Promotores</td>\n",
       "    </tr>\n",
       "    <tr>\n",
       "      <th>4</th>\n",
       "      <td>1004</td>\n",
       "      <td>UK</td>\n",
       "      <td>01/03/2021</td>\n",
       "      <td>Jerry Garcia</td>\n",
       "      <td>3</td>\n",
       "      <td>1</td>\n",
       "      <td>8</td>\n",
       "      <td>Neutros</td>\n",
       "    </tr>\n",
       "    <tr>\n",
       "      <th>...</th>\n",
       "      <td>...</td>\n",
       "      <td>...</td>\n",
       "      <td>...</td>\n",
       "      <td>...</td>\n",
       "      <td>...</td>\n",
       "      <td>...</td>\n",
       "      <td>...</td>\n",
       "      <td>...</td>\n",
       "    </tr>\n",
       "    <tr>\n",
       "      <th>4995</th>\n",
       "      <td>5995</td>\n",
       "      <td>MEX</td>\n",
       "      <td>02/07/2021</td>\n",
       "      <td>Deborah Peterson</td>\n",
       "      <td>7</td>\n",
       "      <td>3</td>\n",
       "      <td>7</td>\n",
       "      <td>Neutros</td>\n",
       "    </tr>\n",
       "    <tr>\n",
       "      <th>4996</th>\n",
       "      <td>5996</td>\n",
       "      <td>MEX</td>\n",
       "      <td>17/03/2021</td>\n",
       "      <td>Jordan Smith</td>\n",
       "      <td>3</td>\n",
       "      <td>1</td>\n",
       "      <td>10</td>\n",
       "      <td>Promotores</td>\n",
       "    </tr>\n",
       "    <tr>\n",
       "      <th>4997</th>\n",
       "      <td>5997</td>\n",
       "      <td>UK</td>\n",
       "      <td>07/01/2021</td>\n",
       "      <td>Carly Scott</td>\n",
       "      <td>1</td>\n",
       "      <td>1</td>\n",
       "      <td>8</td>\n",
       "      <td>Neutros</td>\n",
       "    </tr>\n",
       "    <tr>\n",
       "      <th>4998</th>\n",
       "      <td>5998</td>\n",
       "      <td>UK</td>\n",
       "      <td>14/10/2021</td>\n",
       "      <td>Eugene Burke</td>\n",
       "      <td>10</td>\n",
       "      <td>4</td>\n",
       "      <td>8</td>\n",
       "      <td>Neutros</td>\n",
       "    </tr>\n",
       "    <tr>\n",
       "      <th>4999</th>\n",
       "      <td>5999</td>\n",
       "      <td>MEX</td>\n",
       "      <td>17/12/2021</td>\n",
       "      <td>Edwin Zavala</td>\n",
       "      <td>12</td>\n",
       "      <td>4</td>\n",
       "      <td>9</td>\n",
       "      <td>Promotores</td>\n",
       "    </tr>\n",
       "  </tbody>\n",
       "</table>\n",
       "<p>5000 rows × 8 columns</p>\n",
       "</div>"
      ],
      "text/plain": [
       "        ID Market Survey date     Customer Name  Month  Quarter  NPS  \\\n",
       "0     1000     US  01/09/2021   Krista Richards      9        3   10   \n",
       "1     1001    MEX  07/11/2021       Monica King     11        4    9   \n",
       "2     1002     UK  25/12/2021   Ricky Armstrong     12        4    0   \n",
       "3     1003     UK  01/10/2021      Andrea Foley     10        4   10   \n",
       "4     1004     UK  01/03/2021      Jerry Garcia      3        1    8   \n",
       "...    ...    ...         ...               ...    ...      ...  ...   \n",
       "4995  5995    MEX  02/07/2021  Deborah Peterson      7        3    7   \n",
       "4996  5996    MEX  17/03/2021      Jordan Smith      3        1   10   \n",
       "4997  5997     UK  07/01/2021       Carly Scott      1        1    8   \n",
       "4998  5998     UK  14/10/2021      Eugene Burke     10        4    8   \n",
       "4999  5999    MEX  17/12/2021      Edwin Zavala     12        4    9   \n",
       "\n",
       "     condicional  \n",
       "0     Promotores  \n",
       "1     Promotores  \n",
       "2     Detratores  \n",
       "3     Promotores  \n",
       "4        Neutros  \n",
       "...          ...  \n",
       "4995     Neutros  \n",
       "4996  Promotores  \n",
       "4997     Neutros  \n",
       "4998     Neutros  \n",
       "4999  Promotores  \n",
       "\n",
       "[5000 rows x 8 columns]"
      ]
     },
     "execution_count": 9,
     "metadata": {},
     "output_type": "execute_result"
    }
   ],
   "source": [
    "nps"
   ]
  },
  {
   "cell_type": "code",
   "execution_count": 10,
   "id": "30f1d191",
   "metadata": {},
   "outputs": [],
   "source": [
    "nps.to_csv('nps_tratado.csv')"
   ]
  }
 ],
 "metadata": {
  "kernelspec": {
   "display_name": "Python 3 (ipykernel)",
   "language": "python",
   "name": "python3"
  },
  "language_info": {
   "codemirror_mode": {
    "name": "ipython",
    "version": 3
   },
   "file_extension": ".py",
   "mimetype": "text/x-python",
   "name": "python",
   "nbconvert_exporter": "python",
   "pygments_lexer": "ipython3",
   "version": "3.9.13"
  }
 },
 "nbformat": 4,
 "nbformat_minor": 5
}
